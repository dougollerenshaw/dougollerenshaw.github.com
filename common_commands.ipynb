{
 "cells": [
  {
   "cell_type": "markdown",
   "id": "7ba6834d",
   "metadata": {},
   "source": [
    "# Common Python/Jupyter commands\n",
    "## Doug Ollerenshaw\n",
    "d.ollerenshaw@gmail.com\n",
    "\n",
    "Below is a collection of common Python/Jupyter commands that I find myself continually searching for. I’m putting them here so I can have an easy single reference\n",
    "\n",
    "## Standard Imports\n",
    "```python\n",
    "import numpy as np\n",
    "import pandas as pd\n",
    "import os\n",
    "import matplotlib.pyplot as plt\n",
    "\n",
    "%matplotlib notebook\n",
    "```\n",
    "\n",
    "## Make Jupyter full screen width\n",
    "```python\n",
    "from IPython.core.display import display, HTML\n",
    "display(HTML(\"<style>.container { width:100% !important; }</style>\"))\n",
    "```\n",
    "\n",
    "## Force Jupyter to automatically reload modules when source code is changed\n",
    "\n",
    "```python\n",
    "%load_ext autoreload\n",
    "%autoreload 2\n",
    "```\n",
    "\n",
    "## Control Pandas display properties\n",
    "\n",
    "```python\n",
    "import pandas as pd\n",
    "pd.set_option('display.max_rows', 500)\n",
    "pd.set_option('display.max_columns', 500)\n",
    "pd.set_option('display.width', 1000)\n",
    "```\n",
    "\n",
    "## Make conda environments visible in Jupyter dropdown menu\n",
    "\n",
    "```python\n",
    "conda activate myenv\n",
    "pip install ipykernel\n",
    "python -m ipykernel install --user --name myenv\n",
    "```\n",
    "\n",
    "## Upload to pypi\n",
    "\n",
    "```python\n",
    "python setup.py sdist\n",
    "twine upload dist/*\n",
    "```\n",
    "\n",
    "## Convert a Jupyter Notebook to html\n",
    "```\n",
    "$ jupyter nbconvert --to FORMAT notebook.ipynb\n",
    "```"
   ]
  },
  {
   "cell_type": "code",
   "execution_count": null,
   "id": "6b15e19a",
   "metadata": {},
   "outputs": [],
   "source": []
  }
 ],
 "metadata": {
  "kernelspec": {
   "display_name": "testenv",
   "language": "python",
   "name": "testenv"
  },
  "language_info": {
   "codemirror_mode": {
    "name": "ipython",
    "version": 3
   },
   "file_extension": ".py",
   "mimetype": "text/x-python",
   "name": "python",
   "nbconvert_exporter": "python",
   "pygments_lexer": "ipython3",
   "version": "3.9.6"
  }
 },
 "nbformat": 4,
 "nbformat_minor": 5
}
