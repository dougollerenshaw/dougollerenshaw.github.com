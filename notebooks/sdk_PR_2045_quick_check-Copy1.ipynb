{
 "cells": [
  {
   "cell_type": "code",
   "execution_count": 1,
   "metadata": {},
   "outputs": [
    {
     "name": "stdout",
     "output_type": "stream",
     "text": [
      "allensdk version 2.10.2 or higher is required, you have 2.10.2 installed\n"
     ]
    }
   ],
   "source": [
    "import matplotlib.pyplot as plt\n",
    "import seaborn as sns\n",
    "import numpy as np\n",
    "import pandas as pd\n",
    "import os\n",
    "pd.set_option('display.max_columns', 500)\n",
    "\n",
    "import allensdk.brain_observatory.behavior.behavior_project_cache as bpc\n",
    "\n",
    "import allensdk\n",
    "import pkg_resources\n",
    "print('allensdk version 2.10.2 or higher is required, you have {} installed'.format(pkg_resources.get_distribution(\"allensdk\").version))"
   ]
  },
  {
   "cell_type": "code",
   "execution_count": 2,
   "metadata": {},
   "outputs": [
    {
     "data": {
      "text/html": [
       "<style>.container { width:100% !important; }</style>"
      ],
      "text/plain": [
       "<IPython.core.display.HTML object>"
      ]
     },
     "metadata": {},
     "output_type": "display_data"
    }
   ],
   "source": [
    "from IPython.core.display import display, HTML\n",
    "display(HTML(\"<style>.container { width:100% !important; }</style>\"))"
   ]
  },
  {
   "cell_type": "code",
   "execution_count": 3,
   "metadata": {},
   "outputs": [],
   "source": [
    "my_cache_dir = '/allen/programs/braintv/workgroups/nc-ophys/visual_behavior/allensdk_visualbehavior_cache'\n",
    "\n",
    "bc = bpc.VisualBehaviorOphysProjectCache.from_s3_cache(cache_dir=my_cache_dir)\n",
    "          \n",
    "experiment_table = bc.get_ophys_experiment_table()     \n",
    "behavior_session_table = bc.get_behavior_session_table()   "
   ]
  },
  {
   "cell_type": "code",
   "execution_count": 9,
   "metadata": {},
   "outputs": [],
   "source": [
    "bsid = behavior_session_table[behavior_session_table['session_type'].str.contains('OPHYS_1')].reset_index().sample(random_state=0)['behavior_session_id'].iloc[0]\n",
    "images_session = bc.get_behavior_session(bsid)"
   ]
  },
  {
   "cell_type": "code",
   "execution_count": 10,
   "metadata": {},
   "outputs": [
    {
     "data": {
      "text/plain": [
       "{'auto_reward_volume': 0.005,\n",
       " 'n_stimulus_frames': 69629,\n",
       " 'stimulus': 'images',\n",
       " 'task': 'change detection',\n",
       " 'session_type': 'OPHYS_1_images_B',\n",
       " 'reward_volume': 0.007,\n",
       " 'stimulus_distribution': 'geometric',\n",
       " 'response_window_sec': [0.15, 0.75],\n",
       " 'omitted_flash_fraction': 0.05,\n",
       " 'stimulus_duration_sec': 0.25,\n",
       " 'blank_duration_sec': [0.5, 0.5]}"
      ]
     },
     "execution_count": 10,
     "metadata": {},
     "output_type": "execute_result"
    }
   ],
   "source": [
    "images_session.task_parameters"
   ]
  },
  {
   "cell_type": "code",
   "execution_count": 11,
   "metadata": {},
   "outputs": [],
   "source": [
    "images_session.task_parameters?"
   ]
  },
  {
   "cell_type": "code",
   "execution_count": 12,
   "metadata": {},
   "outputs": [
    {
     "data": {
      "text/plain": [
       "{'imaging_plane_group': -1,\n",
       " 'ophys_session_id': 910971181,\n",
       " 'ophys_experiment_id': 911149119,\n",
       " 'field_of_view_width': 452,\n",
       " 'imaging_depth': 375,\n",
       " 'session_type': 'OPHYS_1_images_B',\n",
       " 'behavior_session_uuid': UUID('0d0c7bfe-8800-43cf-aea8-a3076a88ac3b'),\n",
       " 'imaging_plane_group_count': 0,\n",
       " 'behavior_session_id': 911025799,\n",
       " 'stimulus_frame_rate': 60.0,\n",
       " 'experiment_container_id': 906963896,\n",
       " 'field_of_view_height': 512,\n",
       " 'equipment_name': 'CAM2P.3',\n",
       " 'mouse_id': 462544,\n",
       " 'sex': 'M',\n",
       " 'age_in_days': 157,\n",
       " 'full_genotype': 'Slc17a7-IRES2-Cre/wt;Camk2a-tTA/wt;Ai93(TITL-GCaMP6f)/wt',\n",
       " 'reporter_line': 'Ai93(TITL-GCaMP6f)',\n",
       " 'driver_line': ['Camk2a-tTA', 'Slc17a7-IRES2-Cre'],\n",
       " 'cre_line': 'Slc17a7-IRES2-Cre',\n",
       " 'date_of_acquisition': datetime.datetime(2019, 7, 23, 20, 6, 37, tzinfo=tzutc())}"
      ]
     },
     "execution_count": 12,
     "metadata": {},
     "output_type": "execute_result"
    }
   ],
   "source": [
    "images_session.metadata"
   ]
  },
  {
   "cell_type": "code",
   "execution_count": null,
   "metadata": {},
   "outputs": [],
   "source": []
  }
 ],
 "metadata": {
  "kernelspec": {
   "display_name": "allensdk",
   "language": "python",
   "name": "allensdk"
  },
  "language_info": {
   "codemirror_mode": {
    "name": "ipython",
    "version": 3
   },
   "file_extension": ".py",
   "mimetype": "text/x-python",
   "name": "python",
   "nbconvert_exporter": "python",
   "pygments_lexer": "ipython3",
   "version": "3.8.5"
  }
 },
 "nbformat": 4,
 "nbformat_minor": 4
}
