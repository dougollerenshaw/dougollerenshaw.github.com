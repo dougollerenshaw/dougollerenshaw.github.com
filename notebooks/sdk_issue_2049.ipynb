{
 "cells": [
  {
   "cell_type": "code",
   "execution_count": 1,
   "metadata": {},
   "outputs": [
    {
     "data": {
      "text/plain": [
       "{'auto_reward_volume': 0.005,\n",
       " 'blank_duration_sec': [0.5, 0.5],\n",
       " 'response_window_sec': [0.0, 0.0],\n",
       " 'n_stimulus_frames': 54158,\n",
       " 'task': 'change detection',\n",
       " 'session_type': 'TRAINING_0_gratings_autorewards_15min',\n",
       " 'omitted_flash_fraction': nan,\n",
       " 'stimulus_distribution': 'exponential',\n",
       " 'stimulus_duration_sec': nan,\n",
       " 'reward_volume': 0.0,\n",
       " 'stimulus': 'grating'}"
      ]
     },
     "execution_count": 1,
     "metadata": {},
     "output_type": "execute_result"
    }
   ],
   "source": [
    "import allensdk.brain_observatory.behavior.behavior_project_cache as bpc\n",
    "\n",
    "my_cache_dir = '/allen/programs/braintv/workgroups/nc-ophys/visual_behavior/allensdk_visualbehavior_cache'\n",
    "\n",
    "bc = bpc.VisualBehaviorOphysProjectCache.from_s3_cache(cache_dir=my_cache_dir)\n",
    "\n",
    "bs1 = bc.get_behavior_session(870987812)\n",
    "\n",
    "bs1.task_parameters"
   ]
  },
  {
   "cell_type": "code",
   "execution_count": 2,
   "metadata": {},
   "outputs": [],
   "source": [
    "bs1.task_parameters?"
   ]
  },
  {
   "cell_type": "code",
   "execution_count": 4,
   "metadata": {},
   "outputs": [
    {
     "data": {
      "text/plain": [
       "{'auto_reward_volume': 0.005,\n",
       " 'blank_duration_sec': [0.5, 0.5],\n",
       " 'response_window_sec': [0.0, 0.0],\n",
       " 'n_stimulus_frames': 54158,\n",
       " 'task': 'change detection',\n",
       " 'session_type': 'TRAINING_0_gratings_autorewards_15min',\n",
       " 'omitted_flash_fraction': nan,\n",
       " 'stimulus_distribution': 'exponential',\n",
       " 'stimulus_duration_sec': nan,\n",
       " 'reward_volume': 0.0,\n",
       " 'stimulus': 'grating'}"
      ]
     },
     "execution_count": 4,
     "metadata": {},
     "output_type": "execute_result"
    }
   ],
   "source": [
    "bs1.task_parameters"
   ]
  },
  {
   "cell_type": "code",
   "execution_count": null,
   "metadata": {},
   "outputs": [],
   "source": []
  }
 ],
 "metadata": {
  "kernelspec": {
   "display_name": "allensdk",
   "language": "python",
   "name": "allensdk"
  },
  "language_info": {
   "codemirror_mode": {
    "name": "ipython",
    "version": 3
   },
   "file_extension": ".py",
   "mimetype": "text/x-python",
   "name": "python",
   "nbconvert_exporter": "python",
   "pygments_lexer": "ipython3",
   "version": "3.8.5"
  }
 },
 "nbformat": 4,
 "nbformat_minor": 4
}
